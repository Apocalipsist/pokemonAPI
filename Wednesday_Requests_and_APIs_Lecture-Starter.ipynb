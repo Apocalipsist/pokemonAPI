{
 "cells": [
  {
   "cell_type": "markdown",
   "metadata": {},
   "source": [
    "# Python Requests"
   ]
  },
  {
   "cell_type": "markdown",
   "metadata": {},
   "source": [
    "## Tasks Today:\n",
    "\n",
    "   \n",
    "1) <b>Requests package</b> <br>\n",
    " &nbsp;&nbsp;&nbsp;&nbsp; a) pip install <br>\n",
    " &nbsp;&nbsp;&nbsp;&nbsp; b) requests.get <br>\n",
    " &nbsp;&nbsp;&nbsp;&nbsp; c) Response object <br>\n",
    " &nbsp;&nbsp;&nbsp;&nbsp; d) .content and .text <br>\n",
    " &nbsp;&nbsp;&nbsp;&nbsp; e) JSON <br>  \n",
    "2) <b>Python Wrapper</b> <br>\n",
    " &nbsp;&nbsp;&nbsp;&nbsp; a) API key and base url<br>\n",
    " &nbsp;&nbsp;&nbsp;&nbsp; b) Creating a class for our requests<br>\n",
    " &nbsp;&nbsp;&nbsp;&nbsp; c) Private method for getting the response data <br>\n",
    " &nbsp;&nbsp;&nbsp;&nbsp; d) Public method for displaying the data <br>\n",
    " &nbsp;&nbsp;&nbsp;&nbsp; e) In-Class Exercise #1 - Add a method for getting the high and lows for the next 3 days <br>\n",
    "3) <b>Exercises</b> <br>\n",
    " &nbsp;&nbsp;&nbsp;&nbsp; a) Exercise #1 - Pokemon Wrapper  <br>"
   ]
  },
  {
   "cell_type": "markdown",
   "metadata": {},
   "source": [
    "#### Warm Up\n",
    "Write a function that takes in a name (first or last) and returns the position and company name of that person. If the user is not found, return -1"
   ]
  },
  {
   "cell_type": "code",
   "execution_count": 1,
   "metadata": {},
   "outputs": [
    {
     "name": "stdout",
     "output_type": "stream",
     "text": [
      "Collecting faker\n",
      "  Downloading Faker-15.0.0-py3-none-any.whl (1.6 MB)\n",
      "Requirement already satisfied: python-dateutil>=2.4 in c:\\users\\paco\\anaconda3\\lib\\site-packages (from faker) (2.8.2)\n",
      "Requirement already satisfied: six>=1.5 in c:\\users\\paco\\anaconda3\\lib\\site-packages (from python-dateutil>=2.4->faker) (1.16.0)\n",
      "Installing collected packages: faker\n",
      "Successfully installed faker-15.0.0\n"
     ]
    }
   ],
   "source": [
    "!pip install faker"
   ]
  },
  {
   "cell_type": "code",
   "execution_count": 4,
   "metadata": {},
   "outputs": [],
   "source": [
    "from faker import Faker\n",
    "\n",
    "fake = Faker()"
   ]
  },
  {
   "cell_type": "code",
   "execution_count": 5,
   "metadata": {},
   "outputs": [],
   "source": [
    "# Example 1\n",
    "# get_person_info('Adam')\n",
    "# Output: 'Records manager at Odom, Harper, and Allen'\n",
    "\n",
    "# Example 2\n",
    "# get_person_info('Burns')\n",
    "# Output: 'Applications developer at Sanders-Ryan'\n",
    "\n",
    "# Example 3\n",
    "# get_person_info('Alice')\n",
    "# Output: -1"
   ]
  },
  {
   "cell_type": "code",
   "execution_count": 8,
   "metadata": {},
   "outputs": [],
   "source": [
    "data = [\n",
    "    {\n",
    "        'first_name': 'Adam',\n",
    "        'last_name': 'Simpson',\n",
    "        'city': 'West Maureenland',\n",
    "        'email': 'adam.simpson@paul-williams.com',\n",
    "        'occupation': {\n",
    "            'company': 'Odom, Harper and Allen',\n",
    "            'position': 'Records manager'\n",
    "        }\n",
    "    },\n",
    "    {\n",
    "        'first_name': 'Robert',\n",
    "        'last_name': 'Miller',\n",
    "        'city': 'South Jaredburgh',\n",
    "        'email': 'robert.miller@allen.org',\n",
    "        'occupation': {\n",
    "            'company': 'Roberts-Jackson',\n",
    "            'position': 'Media planner'\n",
    "        }\n",
    "    },\n",
    "    {\n",
    "        'first_name': 'Edwin',\n",
    "        'last_name': 'Johnson',\n",
    "        'city': 'Lake Kimberly',\n",
    "        'email': 'edwin.johnson@sanders.biz',\n",
    "        'occupation': {\n",
    "            'company': 'Hart, Jones and Malone',\n",
    "            'position': 'Therapist, speech and language'\n",
    "        }\n",
    "    },\n",
    "    {\n",
    "        'first_name': 'Gail',\n",
    "        'last_name': 'Castro',\n",
    "        'city': 'Brianchester',\n",
    "        'email': 'gail.castro@suarez-sullivan.org',\n",
    "        'occupation': {\n",
    "            'company': 'Duncan-Gallagher',\n",
    "            'position': 'Designer, multimedia'\n",
    "        }\n",
    "    },\n",
    "    {\n",
    "        'first_name': 'Andre',\n",
    "        'last_name': 'Burns',\n",
    "        'city': 'New Samuelside',\n",
    "        'email': 'andre.burns@love.com',\n",
    "        'occupation': {\n",
    "            'company': 'Sanders-Ryan',\n",
    "            'position': 'Applications developer'\n",
    "        }\n",
    "    },\n",
    "    {\n",
    "        'first_name': 'Nicole',\n",
    "        'last_name': 'Maynard',\n",
    "        'city': 'Teresaville',\n",
    "        'email': 'nicole.maynard@chavez.com',\n",
    "        'occupation': {\n",
    "            'company': 'Hoffman, Reynolds and Wilson',\n",
    "            'position': 'Community education officer'\n",
    "        }\n",
    "    },\n",
    "    {\n",
    "        'first_name': 'Megan',\n",
    "        'last_name': 'Mcdonald',\n",
    "        'city': 'Walkerfurt',\n",
    "        'email': 'megan.mcdonald@guzman.info',\n",
    "        'occupation': {\n",
    "            'company': 'King Ltd',\n",
    "            'position': 'Doctor, general practice'\n",
    "        }\n",
    "    },\n",
    "    {\n",
    "        'first_name': 'Stephen',\n",
    "        'last_name': 'Young',\n",
    "        'city': 'South Jeffrey',\n",
    "        'email': 'stephen.young@smith.biz',\n",
    "        'occupation': {\n",
    "            'company': 'Hernandez LLC',\n",
    "            'position': 'Environmental manager'\n",
    "        }\n",
    "    },\n",
    "    {\n",
    "        'first_name': 'Daniel',\n",
    "        'last_name': 'Deleon',\n",
    "        'city': 'Yatesburgh',\n",
    "        'email': 'daniel.deleon@mcmahon.org',\n",
    "        'occupation': {\n",
    "            'company': 'Nelson-Wilson',\n",
    "            'position': 'Sports development officer'\n",
    "        }\n",
    "    },\n",
    "    {\n",
    "        'first_name': 'Patricia',\n",
    "        'last_name': 'Pacheco',\n",
    "        'city': 'South Donnamouth',\n",
    "        'email': 'patricia.pacheco@lee-wilson.com',\n",
    "        'occupation': {\n",
    "            'company': 'Giles, Williams and Jones',\n",
    "            'position': 'Theatre manager'\n",
    "        }\n",
    "    }\n",
    "]\n",
    "\n",
    "def get_person_info(name):\n",
    "    for n in data:\n",
    "        if n['first_name'] or n['last_name'] == name:\n",
    "            return n[\"ocupation\"]"
   ]
  },
  {
   "cell_type": "code",
   "execution_count": null,
   "metadata": {},
   "outputs": [],
   "source": []
  },
  {
   "cell_type": "code",
   "execution_count": null,
   "metadata": {},
   "outputs": [],
   "source": []
  },
  {
   "cell_type": "code",
   "execution_count": null,
   "metadata": {},
   "outputs": [],
   "source": []
  },
  {
   "cell_type": "markdown",
   "metadata": {},
   "source": [
    "### Requests Package\n",
    "<a href='https://docs.python-requests.org/en/latest/'>Docs</a>"
   ]
  },
  {
   "cell_type": "markdown",
   "metadata": {},
   "source": [
    "#### Install and import package"
   ]
  },
  {
   "cell_type": "code",
   "execution_count": 1,
   "metadata": {},
   "outputs": [
    {
     "name": "stdout",
     "output_type": "stream",
     "text": [
      "Requirement already satisfied: requests in c:\\users\\paco\\anaconda3\\lib\\site-packages (2.27.1)\n",
      "Requirement already satisfied: idna<4,>=2.5 in c:\\users\\paco\\anaconda3\\lib\\site-packages (from requests) (3.3)\n",
      "Requirement already satisfied: charset-normalizer~=2.0.0 in c:\\users\\paco\\anaconda3\\lib\\site-packages (from requests) (2.0.4)\n",
      "Requirement already satisfied: certifi>=2017.4.17 in c:\\users\\paco\\anaconda3\\lib\\site-packages (from requests) (2021.10.8)\n",
      "Requirement already satisfied: urllib3<1.27,>=1.21.1 in c:\\users\\paco\\anaconda3\\lib\\site-packages (from requests) (1.26.9)\n"
     ]
    }
   ],
   "source": [
    "!pip install requests"
   ]
  },
  {
   "cell_type": "code",
   "execution_count": 2,
   "metadata": {},
   "outputs": [],
   "source": [
    "import requests"
   ]
  },
  {
   "cell_type": "markdown",
   "metadata": {},
   "source": [
    "#### requests get method"
   ]
  },
  {
   "cell_type": "code",
   "execution_count": null,
   "metadata": {},
   "outputs": [],
   "source": []
  },
  {
   "cell_type": "markdown",
   "metadata": {},
   "source": [
    "#### Response object"
   ]
  },
  {
   "cell_type": "code",
   "execution_count": null,
   "metadata": {},
   "outputs": [],
   "source": []
  },
  {
   "cell_type": "code",
   "execution_count": null,
   "metadata": {},
   "outputs": [],
   "source": []
  },
  {
   "cell_type": "markdown",
   "metadata": {},
   "source": [
    "#### .content"
   ]
  },
  {
   "cell_type": "code",
   "execution_count": null,
   "metadata": {},
   "outputs": [],
   "source": []
  },
  {
   "cell_type": "markdown",
   "metadata": {},
   "source": [
    "#### .text"
   ]
  },
  {
   "cell_type": "code",
   "execution_count": null,
   "metadata": {
    "scrolled": true
   },
   "outputs": [],
   "source": []
  },
  {
   "cell_type": "code",
   "execution_count": null,
   "metadata": {},
   "outputs": [],
   "source": []
  },
  {
   "cell_type": "markdown",
   "metadata": {},
   "source": [
    "#### JSON Response"
   ]
  },
  {
   "cell_type": "code",
   "execution_count": null,
   "metadata": {},
   "outputs": [],
   "source": []
  },
  {
   "cell_type": "code",
   "execution_count": null,
   "metadata": {
    "scrolled": true
   },
   "outputs": [],
   "source": []
  },
  {
   "cell_type": "code",
   "execution_count": null,
   "metadata": {},
   "outputs": [],
   "source": []
  },
  {
   "cell_type": "code",
   "execution_count": null,
   "metadata": {},
   "outputs": [],
   "source": []
  },
  {
   "cell_type": "code",
   "execution_count": null,
   "metadata": {},
   "outputs": [],
   "source": []
  },
  {
   "cell_type": "code",
   "execution_count": null,
   "metadata": {
    "scrolled": true
   },
   "outputs": [],
   "source": []
  },
  {
   "cell_type": "code",
   "execution_count": null,
   "metadata": {},
   "outputs": [],
   "source": []
  },
  {
   "cell_type": "markdown",
   "metadata": {},
   "source": [
    "### Python Wrappers"
   ]
  },
  {
   "cell_type": "code",
   "execution_count": 3,
   "metadata": {},
   "outputs": [],
   "source": [
    "my_api_key = 'b0ac2cfa159843758ba184926220510'\n",
    "\n",
    "api_url = f'https://api.weatherapi.com/v1/current.json?key={my_api_key}&q=Worcester'"
   ]
  },
  {
   "cell_type": "code",
   "execution_count": 4,
   "metadata": {},
   "outputs": [
    {
     "data": {
      "text/plain": [
       "<Response [200]>"
      ]
     },
     "execution_count": 4,
     "metadata": {},
     "output_type": "execute_result"
    }
   ],
   "source": [
    "res = requests.get(api_url)\n",
    "res"
   ]
  },
  {
   "cell_type": "code",
   "execution_count": 5,
   "metadata": {},
   "outputs": [
    {
     "data": {
      "text/plain": [
       "{'location': {'name': 'Worcester',\n",
       "  'region': 'Massachusetts',\n",
       "  'country': 'United States of America',\n",
       "  'lat': 42.26,\n",
       "  'lon': -71.8,\n",
       "  'tz_id': 'America/New_York',\n",
       "  'localtime_epoch': 1664998061,\n",
       "  'localtime': '2022-10-05 15:27'},\n",
       " 'current': {'last_updated_epoch': 1664997300,\n",
       "  'last_updated': '2022-10-05 15:15',\n",
       "  'temp_c': 13.3,\n",
       "  'temp_f': 55.9,\n",
       "  'is_day': 1,\n",
       "  'condition': {'text': 'Overcast',\n",
       "   'icon': '//cdn.weatherapi.com/weather/64x64/day/122.png',\n",
       "   'code': 1009},\n",
       "  'wind_mph': 8.1,\n",
       "  'wind_kph': 13.0,\n",
       "  'wind_degree': 40,\n",
       "  'wind_dir': 'NE',\n",
       "  'pressure_mb': 1014.0,\n",
       "  'pressure_in': 29.93,\n",
       "  'precip_mm': 0.0,\n",
       "  'precip_in': 0.0,\n",
       "  'humidity': 97,\n",
       "  'cloud': 100,\n",
       "  'feelslike_c': 12.0,\n",
       "  'feelslike_f': 53.5,\n",
       "  'vis_km': 13.0,\n",
       "  'vis_miles': 8.0,\n",
       "  'uv': 3.0,\n",
       "  'gust_mph': 13.4,\n",
       "  'gust_kph': 21.6}}"
      ]
     },
     "execution_count": 5,
     "metadata": {},
     "output_type": "execute_result"
    }
   ],
   "source": [
    "weather_data = res.json()\n",
    "weather_data"
   ]
  },
  {
   "cell_type": "code",
   "execution_count": 34,
   "metadata": {},
   "outputs": [
    {
     "name": "stdout",
     "output_type": "stream",
     "text": [
      "https://api.weatherapi.com/v1/current.json?key=b0ac2cfa159843758ba184926220510&q=Pahrump\n"
     ]
    }
   ],
   "source": [
    "base_url = 'https://api.weatherapi.com/v1'\n",
    "api_method = \"/current.json\"\n",
    "api_key = \"b0ac2cfa159843758ba184926220510\"\n",
    "city = \"Pahrump\"\n",
    "api_url = f\"{base_url}{api_method}?key={api_key}&q={city}\"\n",
    "print(api_url)"
   ]
  },
  {
   "cell_type": "code",
   "execution_count": null,
   "metadata": {},
   "outputs": [],
   "source": []
  },
  {
   "cell_type": "code",
   "execution_count": 35,
   "metadata": {},
   "outputs": [],
   "source": [
    "degree_sign = u'\\N{DEGREE SIGN}'"
   ]
  },
  {
   "cell_type": "code",
   "execution_count": 76,
   "metadata": {},
   "outputs": [],
   "source": [
    "class WeatherAPI:\n",
    "    base_url = 'https://api.weatherapi.com/v1'\n",
    "    \n",
    "    def __init__(self, api_key):\n",
    "        self.api_key = api_key\n",
    "    \n",
    "    def _get(self,city, api_method, **params):\n",
    "        request_url = f\"{self.base_url}{api_method}?key={self.api_key}&q={city}\"\n",
    "        if params:\n",
    "            for key, value in params.items():\n",
    "                request_url += f\"&{key}={value}\"\n",
    "        weather_response = requests.get(request_url)\n",
    "        if weather_response.ok:\n",
    "            return weather_response.json()\n",
    "        else:\n",
    "            print('There was an error')\n",
    "        \n",
    "    def get_current_weather(self,city):\n",
    "        weather_data = self._get(city, '/current.json')\n",
    "        city_name = f\"{weather_data['location']['name']}\" \n",
    "        region_name = f\"{weather_data['location']['region']}\"\n",
    "        current_temp = weather_data[\"current\"][\"temp_f\"]\n",
    "        feels_like = weather_data[\"current\"][\"feelslike_f\"]\n",
    "        current_condition = weather_data[\"current\"][\"condition\"]['text']\n",
    "        city_weather = CityWeather(current_temp, feels_like,current_condition,city_name,region_name)\n",
    "        return city_weather\n",
    "        \n",
    "    def get_forcast_weather(self, city, days=3,hours=12):\n",
    "        weather_data = self._get(city,'/forecast.json', days=days,hours=hours)\n",
    "        city_name = f\"{weather_data['location']['name']}\" \n",
    "        region_name = f\"{weather_data['location']['region']}\"\n",
    "        current_temp = weather_data[\"current\"][\"temp_f\"]\n",
    "        feels_like = weather_data[\"current\"][\"feelslike_f\"]\n",
    "        current_condition = weather_data[\"current\"][\"condition\"]['text']\n",
    "        list_of_days = weather_data[\"forecast\"][\"forecastday\"]\n",
    "        for day in list_of_days:\n",
    "            date = day['date']\n",
    "            high = day['day']['maxtemp_f']\n",
    "            low = day['day']['mintemp_f']\n",
    "            condition = day['day']['condition']['text']\n",
    "            print(f\"\\tOn {date}, it will be a {condition} with a high of {high} and a low of {low}\")\n",
    "        \n",
    "        \n",
    "class CityWeather:\n",
    "    def __init__(self, current_temp, feels_like, current_condition,city_name,region_name):\n",
    "        self.current_temp = current_temp\n",
    "        self.feels_like = feels_like\n",
    "        self.condition = current_condition\n",
    "        self.city_name = city_name\n",
    "        self.region_name = region_name\n",
    "    \n",
    "    def __str__(self):\n",
    "        degree_sign = u'\\N{DEGREE SIGN}'\n",
    "        return f'it is currently {self.current_condition} and {self.current_temp}{degree_sign}F in {self.city_name}, \\\n",
    "        {self.region_name}. It feels like {self.feels_like}{degree_sign}F'\n",
    "        \n",
    "        \n",
    "        \n",
    "client = WeatherAPI('b0ac2cfa159843758ba184926220510')\n",
    "my_city = client.get_current_weather(\"Pahrump\")\n"
   ]
  },
  {
   "cell_type": "code",
   "execution_count": 77,
   "metadata": {},
   "outputs": [
    {
     "name": "stdout",
     "output_type": "stream",
     "text": [
      "\tOn 2022-10-05, it will be a Sunny with a high of 89.2 and a low of 59.9\n",
      "\tOn 2022-10-06, it will be a Sunny with a high of 86.5 and a low of 61.0\n",
      "\tOn 2022-10-07, it will be a Sunny with a high of 86.7 and a low of 61.2\n"
     ]
    }
   ],
   "source": [
    "client.get_forcast_weather('Pahrump')"
   ]
  },
  {
   "cell_type": "code",
   "execution_count": 82,
   "metadata": {},
   "outputs": [
    {
     "name": "stdout",
     "output_type": "stream",
     "text": [
      "Enter in a city for the current weather or type \"done\" to quit chicago\n",
      "Enter in a city for the current weather or type \"done\" to quit done\n",
      "Illinois\n"
     ]
    }
   ],
   "source": [
    "def weather_app(api_key):\n",
    "    client= WeatherAPI(api_key)\n",
    "    my_cities =[]\n",
    "    while True:\n",
    "        city = input('Enter in a city for the current weather or type \"done\" to quit ')\n",
    "        if city.lower() == 'done':\n",
    "            break\n",
    "        city_obj = client.get_current_weather(city)\n",
    "        my_cities.append(city_obj)\n",
    "    for city in my_cities:\n",
    "        print(city.region_name)\n",
    "        \n",
    "weather_app('b0ac2cfa159843758ba184926220510')\n",
    "        "
   ]
  },
  {
   "cell_type": "code",
   "execution_count": 57,
   "metadata": {},
   "outputs": [
    {
     "name": "stdout",
     "output_type": "stream",
     "text": [
      "www.test.com//current.json?q=syndey\n"
     ]
    }
   ],
   "source": [
    "def make_url(city, method, **params):\n",
    "    base = \"www.test.com/\"\n",
    "    url = f\"{base}{method}?q={city}\"\n",
    "    if params:\n",
    "        for key,value in params.items():\n",
    "            url += f\"&{key}={value}\"\n",
    "    print(url)\n",
    "    \n",
    "make_url(\"syndey\", '/current.json',)"
   ]
  },
  {
   "cell_type": "code",
   "execution_count": null,
   "metadata": {},
   "outputs": [],
   "source": []
  },
  {
   "cell_type": "code",
   "execution_count": null,
   "metadata": {},
   "outputs": [],
   "source": [
    "#### In-class Exercise"
   ]
  },
  {
   "cell_type": "markdown",
   "metadata": {},
   "source": [
    "Add a method for getting the forecast weather for a city. It should default to 3 days in the future. It should display the high, low and condition with the date."
   ]
  },
  {
   "cell_type": "code",
   "execution_count": null,
   "metadata": {},
   "outputs": [],
   "source": []
  },
  {
   "cell_type": "code",
   "execution_count": null,
   "metadata": {},
   "outputs": [],
   "source": []
  },
  {
   "cell_type": "markdown",
   "metadata": {},
   "source": [
    "# Exercise"
   ]
  },
  {
   "cell_type": "markdown",
   "metadata": {},
   "source": [
    "#### Pokemon API Wrapper"
   ]
  },
  {
   "cell_type": "markdown",
   "metadata": {},
   "source": [
    "Create a python wrapper for the Pokemon API. It should take in a pokemon name and display the pokemon with its height and weight"
   ]
  },
  {
   "cell_type": "code",
   "execution_count": null,
   "metadata": {},
   "outputs": [],
   "source": [
    "  https://pokeapi.co/api/v2/"
   ]
  },
  {
   "cell_type": "code",
   "execution_count": null,
   "metadata": {},
   "outputs": [],
   "source": [
    "requests\n",
    "res = requests.get(\"https://pokeapi.co/api/v2\")\n",
    "res"
   ]
  },
  {
   "cell_type": "code",
   "execution_count": 90,
   "metadata": {},
   "outputs": [
    {
     "data": {
      "text/plain": [
       "{'ability': 'https://pokeapi.co/api/v2/ability/',\n",
       " 'berry': 'https://pokeapi.co/api/v2/berry/',\n",
       " 'berry-firmness': 'https://pokeapi.co/api/v2/berry-firmness/',\n",
       " 'berry-flavor': 'https://pokeapi.co/api/v2/berry-flavor/',\n",
       " 'characteristic': 'https://pokeapi.co/api/v2/characteristic/',\n",
       " 'contest-effect': 'https://pokeapi.co/api/v2/contest-effect/',\n",
       " 'contest-type': 'https://pokeapi.co/api/v2/contest-type/',\n",
       " 'egg-group': 'https://pokeapi.co/api/v2/egg-group/',\n",
       " 'encounter-condition': 'https://pokeapi.co/api/v2/encounter-condition/',\n",
       " 'encounter-condition-value': 'https://pokeapi.co/api/v2/encounter-condition-value/',\n",
       " 'encounter-method': 'https://pokeapi.co/api/v2/encounter-method/',\n",
       " 'evolution-chain': 'https://pokeapi.co/api/v2/evolution-chain/',\n",
       " 'evolution-trigger': 'https://pokeapi.co/api/v2/evolution-trigger/',\n",
       " 'gender': 'https://pokeapi.co/api/v2/gender/',\n",
       " 'generation': 'https://pokeapi.co/api/v2/generation/',\n",
       " 'growth-rate': 'https://pokeapi.co/api/v2/growth-rate/',\n",
       " 'item': 'https://pokeapi.co/api/v2/item/',\n",
       " 'item-attribute': 'https://pokeapi.co/api/v2/item-attribute/',\n",
       " 'item-category': 'https://pokeapi.co/api/v2/item-category/',\n",
       " 'item-fling-effect': 'https://pokeapi.co/api/v2/item-fling-effect/',\n",
       " 'item-pocket': 'https://pokeapi.co/api/v2/item-pocket/',\n",
       " 'language': 'https://pokeapi.co/api/v2/language/',\n",
       " 'location': 'https://pokeapi.co/api/v2/location/',\n",
       " 'location-area': 'https://pokeapi.co/api/v2/location-area/',\n",
       " 'machine': 'https://pokeapi.co/api/v2/machine/',\n",
       " 'move': 'https://pokeapi.co/api/v2/move/',\n",
       " 'move-ailment': 'https://pokeapi.co/api/v2/move-ailment/',\n",
       " 'move-battle-style': 'https://pokeapi.co/api/v2/move-battle-style/',\n",
       " 'move-category': 'https://pokeapi.co/api/v2/move-category/',\n",
       " 'move-damage-class': 'https://pokeapi.co/api/v2/move-damage-class/',\n",
       " 'move-learn-method': 'https://pokeapi.co/api/v2/move-learn-method/',\n",
       " 'move-target': 'https://pokeapi.co/api/v2/move-target/',\n",
       " 'nature': 'https://pokeapi.co/api/v2/nature/',\n",
       " 'pal-park-area': 'https://pokeapi.co/api/v2/pal-park-area/',\n",
       " 'pokeathlon-stat': 'https://pokeapi.co/api/v2/pokeathlon-stat/',\n",
       " 'pokedex': 'https://pokeapi.co/api/v2/pokedex/',\n",
       " 'pokemon': 'https://pokeapi.co/api/v2/pokemon/',\n",
       " 'pokemon-color': 'https://pokeapi.co/api/v2/pokemon-color/',\n",
       " 'pokemon-form': 'https://pokeapi.co/api/v2/pokemon-form/',\n",
       " 'pokemon-habitat': 'https://pokeapi.co/api/v2/pokemon-habitat/',\n",
       " 'pokemon-shape': 'https://pokeapi.co/api/v2/pokemon-shape/',\n",
       " 'pokemon-species': 'https://pokeapi.co/api/v2/pokemon-species/',\n",
       " 'region': 'https://pokeapi.co/api/v2/region/',\n",
       " 'stat': 'https://pokeapi.co/api/v2/stat/',\n",
       " 'super-contest-effect': 'https://pokeapi.co/api/v2/super-contest-effect/',\n",
       " 'type': 'https://pokeapi.co/api/v2/type/',\n",
       " 'version': 'https://pokeapi.co/api/v2/version/',\n",
       " 'version-group': 'https://pokeapi.co/api/v2/version-group/'}"
      ]
     },
     "execution_count": 90,
     "metadata": {},
     "output_type": "execute_result"
    }
   ],
   "source": [
    "res = requests.get(\"https://pokeapi.co/api/v2\")\n",
    "res.json()"
   ]
  },
  {
   "cell_type": "code",
   "execution_count": null,
   "metadata": {},
   "outputs": [],
   "source": [
    "api_method = \"pokemon/\""
   ]
  },
  {
   "cell_type": "code",
   "execution_count": 87,
   "metadata": {},
   "outputs": [],
   "source": [
    "class PokemonAPI:\n",
    "    base_url = \"https://pokeapi.co/api/v2/\"\n",
    "    \n",
    "    def __init__(self, api_method):\n",
    "        self.method = api_method\n",
    "        \n",
    "    def _get(self, name, **params):\n",
    "        request_url = f\"{self.base_url}{self.api_method}{self.name}\""
   ]
  },
  {
   "cell_type": "code",
   "execution_count": null,
   "metadata": {},
   "outputs": [],
   "source": []
  },
  {
   "cell_type": "code",
   "execution_count": null,
   "metadata": {},
   "outputs": [],
   "source": []
  },
  {
   "cell_type": "code",
   "execution_count": null,
   "metadata": {},
   "outputs": [],
   "source": []
  },
  {
   "cell_type": "code",
   "execution_count": null,
   "metadata": {},
   "outputs": [],
   "source": []
  }
 ],
 "metadata": {
  "kernelspec": {
   "display_name": "Python 3 (ipykernel)",
   "language": "python",
   "name": "python3"
  },
  "language_info": {
   "codemirror_mode": {
    "name": "ipython",
    "version": 3
   },
   "file_extension": ".py",
   "mimetype": "text/x-python",
   "name": "python",
   "nbconvert_exporter": "python",
   "pygments_lexer": "ipython3",
   "version": "3.10.7"
  },
  "vscode": {
   "interpreter": {
    "hash": "89b5318af201cfb04e7d524c1b6673359def82d0442565728f41e5df2809b9b3"
   }
  }
 },
 "nbformat": 4,
 "nbformat_minor": 4
}
